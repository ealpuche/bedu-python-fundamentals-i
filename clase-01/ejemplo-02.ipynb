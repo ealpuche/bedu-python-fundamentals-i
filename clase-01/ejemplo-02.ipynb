{
 "cells": [
  {
   "cell_type": "code",
   "execution_count": 69,
   "metadata": {},
   "outputs": [
    {
     "ename": "TypeError",
     "evalue": "can only concatenate str (not \"int\") to str",
     "output_type": "error",
     "traceback": [
      "\u001b[0;31m---------------------------------------------------------------------------\u001b[0m",
      "\u001b[0;31mTypeError\u001b[0m                                 Traceback (most recent call last)",
      "Cell \u001b[0;32mIn[69], line 1\u001b[0m\n\u001b[0;32m----> 1\u001b[0m \u001b[38;5;28mprint\u001b[39m (\u001b[38;5;124;43m\"\u001b[39;49m\u001b[38;5;124;43mHola mundo\u001b[39;49m\u001b[38;5;124;43m\"\u001b[39;49m\u001b[43m \u001b[49m\u001b[38;5;241;43m+\u001b[39;49m\u001b[43m \u001b[49m\u001b[38;5;241;43m5\u001b[39;49m)\n",
      "\u001b[0;31mTypeError\u001b[0m: can only concatenate str (not \"int\") to str"
     ]
    }
   ],
   "source": [
    "print (\"Hola mundo\" + 5)\n"
   ]
  },
  {
   "cell_type": "code",
   "execution_count": 9,
   "metadata": {},
   "outputs": [
    {
     "data": {
      "text/plain": [
       "bool"
      ]
     },
     "execution_count": 9,
     "metadata": {},
     "output_type": "execute_result"
    }
   ],
   "source": [
    "mi_edad = 30\n",
    "saludo = \"Hola mundo\"\n",
    "costo_paleta = 5.5\n",
    "es_mayor_de_edad = True\n",
    "#mi_edad = \"30\"\n",
    "\n",
    "type(es_mayor_de_edad)\n",
    "\n"
   ]
  },
  {
   "cell_type": "code",
   "execution_count": 28,
   "metadata": {},
   "outputs": [
    {
     "name": "stdout",
     "output_type": "stream",
     "text": [
      "61\n",
      "21\n",
      "820\n",
      "2.05\n",
      "2\n",
      "1\n",
      "8\n",
      "5\n",
      "5\n",
      "Hola mundo\n",
      "mundomundo\n",
      "Hola Hola \n",
      "Hola Hola Hola Hola Hola Hola Hola Hola Hola Hola Hola Hola Hola Hola Hola Hola Hola Hola Hola Hola Hola Hola Hola Hola Hola Hola Hola Hola Hola Hola Hola Hola Hola Hola Hola Hola Hola Hola Hola Hola Hola Hola Hola Hola Hola Hola Hola Hola Hola Hola \n"
     ]
    }
   ],
   "source": [
    "mi_edad = 41\n",
    "tu_edad = 20\n",
    "numero_2 = 2\n",
    "numero_3 = 3\n",
    "numero_0 = 0\n",
    "cadena_1 = \"Hola \"\n",
    "cadena_2 = \"mundo\"\n",
    "\n",
    "print(mi_edad + tu_edad)\n",
    "print(mi_edad - tu_edad)\n",
    "print(mi_edad * tu_edad)\n",
    "print(mi_edad / tu_edad)\n",
    "print(mi_edad // tu_edad)\n",
    "print(mi_edad % tu_edad)\n",
    "print(numero_2 ** numero_3)\n",
    "print(numero_2 + numero_3)\n",
    "print(numero_3 + numero_2)\n",
    "print(cadena_1 + cadena_2)\n",
    "print(cadena_2 + cadena_2)\n",
    "print(cadena_1 * numero_2)\n",
    "print(50 * cadena_1)\n",
    "# print(numero_0 / numero_0) esto produce un error\n"
   ]
  },
  {
   "cell_type": "code",
   "execution_count": 33,
   "metadata": {},
   "outputs": [
    {
     "name": "stdout",
     "output_type": "stream",
     "text": [
      "51\n",
      "Hola mundo desde Python\n",
      "25\n",
      "20\n"
     ]
    }
   ],
   "source": [
    "mi_edad = 41\n",
    "tu_edad = mi_edad + 10\n",
    "saludo = \"Hola mundo\"\n",
    "nuevo_saludo = saludo + \" desde Python\"\n",
    "print(tu_edad)\n",
    "print(nuevo_saludo)\n",
    "\n",
    "lado_cuadrado = 5\n",
    "area_cuadrado = lado_cuadrado ** 2\n",
    "peri_cuadrado = lado_cuadrado * 4\n",
    "print(area_cuadrado)\n",
    "print(peri_cuadrado)\n",
    "\n",
    "\n",
    "## precendencia de operadores\n",
    "## ()\n",
    "## **\n",
    "## * / // %\n",
    "## + -\n"
   ]
  },
  {
   "cell_type": "code",
   "execution_count": 37,
   "metadata": {},
   "outputs": [
    {
     "name": "stdout",
     "output_type": "stream",
     "text": [
      "2.0\n",
      "2.0\n"
     ]
    }
   ],
   "source": [
    "## Raiz cuadrada\n",
    "import math\n",
    "\n",
    "numero_4 = 4\n",
    "numero_2 = 2\n",
    "raiz_cuadrada = numero_4 ** (1/2)\n",
    "print(raiz_cuadrada)\n",
    "raiz_cuadrada = math.sqrt(numero_4)\n",
    "print(raiz_cuadrada)\n"
   ]
  },
  {
   "cell_type": "code",
   "execution_count": 47,
   "metadata": {},
   "outputs": [
    {
     "name": "stdout",
     "output_type": "stream",
     "text": [
      "False\n",
      "True\n",
      "True\n",
      "False\n",
      "True\n",
      "False\n",
      "Cadenas.....\n",
      "False\n",
      "True\n",
      "True\n"
     ]
    }
   ],
   "source": [
    "# Operadores relacionales\n",
    "\n",
    "numero_5 = 5\n",
    "numero_10 = 10\n",
    "\n",
    "print(numero_5 == numero_10) ## Igualdad\n",
    "print(numero_5 != numero_10) ## Diferencia\n",
    "print(numero_5 < numero_10) ## Menor que\n",
    "print(numero_5 > numero_10) ## Mayor que\n",
    "print(numero_5 <= numero_10) ## Menor o igual que\n",
    "print(numero_5 >= numero_10) ## Mayor o igual que\n",
    "\n",
    "\n",
    "print(\"Cadenas.....\")\n",
    "## ahora con cadenas\n",
    "# orden lexicografico\n",
    "cadena_1 = \"Hola\"\n",
    "cadena_2 = \"Mundo\"\n",
    "print(cadena_1 == cadena_2) ## Igualdad\n",
    "print(cadena_1 != cadena_2) ## Diferencia\n",
    "print(cadena_1 < cadena_2) ## Menor que\n",
    "\n"
   ]
  },
  {
   "cell_type": "code",
   "execution_count": 56,
   "metadata": {},
   "outputs": [
    {
     "name": "stdout",
     "output_type": "stream",
     "text": [
      "False\n",
      "True\n",
      "False\n",
      "False\n"
     ]
    }
   ],
   "source": [
    "# Operadores logicos\n",
    "\n",
    "es_mayor_de_edad = False\n",
    "tiene_credencial = True\n",
    "\n",
    "se_activa_la_promocion = es_mayor_de_edad and tiene_credencial\n",
    "\n",
    "print(se_activa_la_promocion)\n",
    "\n",
    "puede_votar = es_mayor_de_edad or tiene_credencial\n",
    "print(puede_votar)\n",
    "\n",
    "no_puede_votar = not puede_votar\n",
    "print(no_puede_votar)\n",
    "\n",
    "print(not True)\n",
    "\n",
    "## Tabla de verdad\n",
    "## AND\n",
    "## True and True = True\n",
    "## True and False = False\n",
    "## False and True = False\n",
    "## False and False = False\n",
    "\n",
    "## OR\n",
    "## True or True = True\n",
    "## True or False = True\n",
    "## False or True = True\n",
    "## False or False = False\n",
    "\n",
    "## NOT\n",
    "## not True = False\n",
    "## not False = True\n"
   ]
  },
  {
   "cell_type": "code",
   "execution_count": 60,
   "metadata": {},
   "outputs": [
    {
     "name": "stdout",
     "output_type": "stream",
     "text": [
      "3\n",
      "3\n",
      "6\n",
      "8\n"
     ]
    }
   ],
   "source": [
    "numero = 2\n",
    "numero = numero + 1\n",
    "print(numero)\n",
    "\n",
    "nuevo_numero = 2\n",
    "nuevo_numero += 1 ## nuevo_numero = nuevo_numero + 1\n",
    "print(nuevo_numero)\n",
    "\n",
    "nuevo_numero = 2\n",
    "nuevo_numero -= 1 ## nuevo_numero = nuevo_numero - 1\n",
    "\n",
    "nuevo_numero = 2\n",
    "nuevo_numero *= 3 ## nuevo_numero = nuevo_numero * 3\n",
    "print(nuevo_numero)\n",
    "\n",
    "nuevo_numero = 2\n",
    "nuevo_numero /= 3 ## nuevo_numero = nuevo_numero / 3\n",
    "\n",
    "nuevo_numero = 2\n",
    "nuevo_numero **= 3 ## nuevo_numero = nuevo_numero ** 3\n",
    "print(nuevo_numero)\n",
    "\n",
    "nuevo_numero = 2\n"
   ]
  },
  {
   "cell_type": "code",
   "execution_count": 63,
   "metadata": {},
   "outputs": [
    {
     "name": "stdout",
     "output_type": "stream",
     "text": [
      "Juan Perez\n",
      "Juan Perez Gomez\n"
     ]
    }
   ],
   "source": [
    "#concatenacion de cadenas\n",
    "nombre = \"Juan\"\n",
    "apellido = \"Perez\"\n",
    "nombre_completo = nombre + \" \" + apellido\n",
    "print(nombre_completo)\n",
    "\n",
    "#interpolacion de cadenas\n",
    "nombre = \"Juan\"\n",
    "apellido_paterno = \"Perez\"\n",
    "apellido_materno = \"Gomez\"\n",
    "nombre_completo = f\"{nombre} {apellido_paterno} {apellido_materno}\"\n",
    "print(nombre_completo)"
   ]
  },
  {
   "cell_type": "code",
   "execution_count": 65,
   "metadata": {},
   "outputs": [
    {
     "name": "stdout",
     "output_type": "stream",
     "text": [
      "10\n"
     ]
    }
   ],
   "source": [
    "edad = input(\"Introduce tu edad: \")\n",
    "print(edad)"
   ]
  },
  {
   "cell_type": "code",
   "execution_count": 68,
   "metadata": {},
   "outputs": [
    {
     "name": "stdout",
     "output_type": "stream",
     "text": [
      "Tu nombre es Elmer Alpuche\n"
     ]
    }
   ],
   "source": [
    "nombre = input(\"Introduce tu nombre: \")\n",
    "apellido_paterno = input(\"Introduce tu apellido paterno: \")\n",
    "print(f\"Tu nombre es {nombre} {apellido_paterno}\")"
   ]
  },
  {
   "cell_type": "code",
   "execution_count": null,
   "metadata": {},
   "outputs": [],
   "source": [
    "## Reto 2\n",
    "\n",
    "precio_producto = 100\n",
    "precio_producto = precio_producto + (precio_producto * 0.1)\n",
    "precio_producto = precio_producto * 1.1\n",
    "precio_producto *= 1.1\n"
   ]
  }
 ],
 "metadata": {
  "kernelspec": {
   "display_name": "Python 3",
   "language": "python",
   "name": "python3"
  },
  "language_info": {
   "codemirror_mode": {
    "name": "ipython",
    "version": 3
   },
   "file_extension": ".py",
   "mimetype": "text/x-python",
   "name": "python",
   "nbconvert_exporter": "python",
   "pygments_lexer": "ipython3",
   "version": "3.11.3"
  }
 },
 "nbformat": 4,
 "nbformat_minor": 2
}
