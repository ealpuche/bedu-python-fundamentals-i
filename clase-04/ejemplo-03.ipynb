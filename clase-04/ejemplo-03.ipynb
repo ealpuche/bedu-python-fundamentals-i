{
 "cells": [
  {
   "cell_type": "code",
   "execution_count": 10,
   "metadata": {},
   "outputs": [
    {
     "name": "stdout",
     "output_type": "stream",
     "text": [
      "[2, 4, 6, 8, 10]\n",
      "[2, 4, 6, 8, 10]\n"
     ]
    }
   ],
   "source": [
    "## funciones map, filter, reduce\n",
    "\n",
    "def doble(x):\n",
    "    return 2*x\n",
    "\n",
    "lista = [1, 2, 3, 4, 5]\n",
    "\n",
    "def doble_lista(lista):\n",
    "    nueva_lista = []\n",
    "    for num in lista:\n",
    "        double_num = doble(num)\n",
    "        nueva_lista.append(double_num)\n",
    "    return nueva_lista\n",
    "\n",
    "print(doble_lista(lista))\n",
    "\n",
    "## usando map\n",
    "print(list(map(doble, lista)))\n",
    "\n",
    "\n"
   ]
  },
  {
   "cell_type": "code",
   "execution_count": 20,
   "metadata": {},
   "outputs": [
    {
     "name": "stdout",
     "output_type": "stream",
     "text": [
      "[]\n"
     ]
    }
   ],
   "source": [
    "# filter\n",
    "\n",
    "def es_impar(x):\n",
    "    x % 2 != 0 # equivalente a return False\n",
    "\n",
    "def es_par(x):\n",
    "    return x % 2 == 0\n",
    "\n",
    "lista = [1, 2, 3, 4, 5, 6, 7, 8, 9]\n",
    "\n",
    "print(list(filter(es_impar, lista)))\n"
   ]
  },
  {
   "cell_type": "code",
   "execution_count": 25,
   "metadata": {},
   "outputs": [
    {
     "name": "stdout",
     "output_type": "stream",
     "text": [
      "15\n",
      "15\n",
      "24.0\n"
     ]
    }
   ],
   "source": [
    "## reduce\n",
    "\n",
    "from functools import reduce\n",
    "\n",
    "def suma(x, y):\n",
    "    return x + y\n",
    "\n",
    "lista = [1, 2, 3, 4, 5]\n",
    "\n",
    "print(reduce(suma, lista))\n",
    "\n",
    "\n",
    "## lambda\n",
    "\n",
    "lista = [1, 2, 3, 4, 5]\n",
    "print(reduce(lambda x, y: x + y, lista))\n",
    "\n",
    "lista = [1, 2, 3, 4, 5]\n",
    "\n",
    "## promedio\n",
    "\n",
    "print(reduce(lambda x, y: x * y, lista) / len(lista))"
   ]
  }
 ],
 "metadata": {
  "kernelspec": {
   "display_name": "Python 3",
   "language": "python",
   "name": "python3"
  },
  "language_info": {
   "codemirror_mode": {
    "name": "ipython",
    "version": 3
   },
   "file_extension": ".py",
   "mimetype": "text/x-python",
   "name": "python",
   "nbconvert_exporter": "python",
   "pygments_lexer": "ipython3",
   "version": "3.11.7"
  }
 },
 "nbformat": 4,
 "nbformat_minor": 2
}
