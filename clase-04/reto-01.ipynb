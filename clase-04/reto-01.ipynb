{
 "cells": [
  {
   "cell_type": "code",
   "execution_count": 5,
   "metadata": {},
   "outputs": [
    {
     "name": "stdout",
     "output_type": "stream",
     "text": [
      "El tiempo promedio diario en redes sociales es de 4.0 horas.\n"
     ]
    }
   ],
   "source": [
    "## lista de horas de una persona en redes sociales\n",
    "\n",
    "def tiempo_promedio(lista):\n",
    "    suma = 0\n",
    "    for num in lista:\n",
    "        suma += num\n",
    "    \n",
    "    longitud_lista = len(lista)\n",
    "    if longitud_lista == 0:\n",
    "        return 0\n",
    "    promedio = suma/longitud_lista\n",
    "    return promedio \n",
    "\n",
    "\n",
    "horas_en_redes_elmer = [1, 2, 3, 4, 5, 6, 7]\n",
    "\n",
    "print(f\"El tiempo promedio diario en redes sociales es de {tiempo_promedio(horas_en_redes_elmer)} horas.\")"
   ]
  }
 ],
 "metadata": {
  "kernelspec": {
   "display_name": "Python 3",
   "language": "python",
   "name": "python3"
  },
  "language_info": {
   "codemirror_mode": {
    "name": "ipython",
    "version": 3
   },
   "file_extension": ".py",
   "mimetype": "text/x-python",
   "name": "python",
   "nbconvert_exporter": "python",
   "pygments_lexer": "ipython3",
   "version": "3.11.7"
  }
 },
 "nbformat": 4,
 "nbformat_minor": 2
}
