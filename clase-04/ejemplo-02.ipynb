{
 "cells": [
  {
   "cell_type": "code",
   "execution_count": 15,
   "metadata": {},
   "outputs": [
    {
     "name": "stdout",
     "output_type": "stream",
     "text": [
      "3\n"
     ]
    },
    {
     "data": {
      "text/plain": [
       "10"
      ]
     },
     "execution_count": 15,
     "metadata": {},
     "output_type": "execute_result"
    }
   ],
   "source": [
    "## funciones\n",
    "\n",
    "def suma(numero_1, numero_2):\n",
    "    return numero_1 + numero_2\n",
    "\n",
    "def suma_impresa(numero_1, numero_2):\n",
    "    print(numero_1 + numero_2)\n",
    "\n",
    "def suma_imaginaria(numero_1, numero_2):\n",
    "    numero_3 = numero_1 + numero_2\n",
    "    return numero_3\n",
    "\n",
    "# aba = suma(\"a\", \"ba\")\n",
    "# tres = suma(1, 2)\n",
    "# suma_impresa_3 = suma_impresa(1, 2)\n",
    "# cuatro = suma(suma_impresa_3, 1)\n",
    "# print(cuatro)\n",
    "# suma_impresa_3 = suma_impresa(1, 2)\n",
    "# print(type(aba))\n",
    "# print(type(tres))\n",
    "# print(type(suma_impresa_3))\n",
    "\n",
    "suma_imaginaria(1, 2)\n",
    "suma_impresa(1, 2)\n",
    "suma(suma(suma(1,2),3),4)"
   ]
  },
  {
   "cell_type": "code",
   "execution_count": 22,
   "metadata": {},
   "outputs": [
    {
     "name": "stdout",
     "output_type": "stream",
     "text": [
      "27\n"
     ]
    }
   ],
   "source": [
    "def potencia(numero, potencia=2, division=1):\n",
    "    return numero ** potencia\n",
    "\n",
    "print(potencia(numero=3, potencia=3))"
   ]
  },
  {
   "cell_type": "code",
   "execution_count": 39,
   "metadata": {},
   "outputs": [
    {
     "name": "stdout",
     "output_type": "stream",
     "text": [
      "55\n"
     ]
    }
   ],
   "source": [
    "def suma_varios(*args):\n",
    "    suma = 0\n",
    "    for numero in args:\n",
    "        suma += numero\n",
    "    return suma\n",
    "        \n",
    "\n",
    "print(suma_varios(1,2,3,4,5,6,7,8,9,10,11,12,13,14,15))"
   ]
  },
  {
   "cell_type": "code",
   "execution_count": 34,
   "metadata": {},
   "outputs": [
    {
     "name": "stdout",
     "output_type": "stream",
     "text": [
      "{'nombre': 'Juan', 'apellido': 'Perez', 'edad': 30, 'genero': 'M'}\n",
      "Juan\n",
      "Perez\n",
      "30\n",
      "M\n"
     ]
    }
   ],
   "source": [
    "def imprime_saludo(**kwargs):\n",
    "    print(kwargs)\n",
    "    print(kwargs['nombre'])\n",
    "    print(kwargs['apellido'])\n",
    "    print(kwargs['edad'])\n",
    "    print(kwargs['genero'])\n",
    "    \n",
    "\n",
    "\n",
    "imprime_saludo(nombre=\"Juan\", apellido=\"Perez\", edad=30, genero=\"M\")"
   ]
  },
  {
   "cell_type": "code",
   "execution_count": 43,
   "metadata": {},
   "outputs": [
    {
     "name": "stdout",
     "output_type": "stream",
     "text": [
      "3\n",
      "7\n"
     ]
    }
   ],
   "source": [
    "suma = lambda numero_1, numero_2: numero_1 + numero_2\n",
    "print(suma(1,2))\n",
    "print(suma(3,4))\n"
   ]
  }
 ],
 "metadata": {
  "kernelspec": {
   "display_name": "Python 3",
   "language": "python",
   "name": "python3"
  },
  "language_info": {
   "codemirror_mode": {
    "name": "ipython",
    "version": 3
   },
   "file_extension": ".py",
   "mimetype": "text/x-python",
   "name": "python",
   "nbconvert_exporter": "python",
   "pygments_lexer": "ipython3",
   "version": "3.11.7"
  }
 },
 "nbformat": 4,
 "nbformat_minor": 2
}
