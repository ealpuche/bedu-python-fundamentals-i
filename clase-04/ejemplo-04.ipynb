{
 "cells": [
  {
   "cell_type": "code",
   "execution_count": 24,
   "metadata": {},
   "outputs": [
    {
     "name": "stdout",
     "output_type": "stream",
     "text": [
      "hola mundo\n",
      "15\n",
      "5\n",
      "5.0\n"
     ]
    }
   ],
   "source": [
    "## Manejo de excepciones\n",
    "\n",
    "## Errores de runtime\n",
    "print(\"hola mundo\")\n",
    "numero_1 = input(\"Ingrese un numero: \")\n",
    "numero_2 = input(\"Ingrese otro numero: \")\n",
    "lista = [1,2,3,4,5]\n",
    "## otra excepcion\n",
    "\n",
    "try:\n",
    "    print(5 + 10)\n",
    "    print(lista[4])\n",
    "    while numero_2 == \"0\":\n",
    "        numero_2 = input(\"Ingrese otro numero: \")\n",
    "    print(int(numero_1) / int(numero_2))\n",
    "        \n",
    "\n",
    "except IndexError:\n",
    "    print(\"Error de indice\")\n",
    "except ZeroDivisionError:\n",
    "    print(\"No se puede dividir por cero\")\n",
    "except:\n",
    "    print(\"Error desconocido\")\n",
    "\n",
    "\n",
    "\n",
    "\n"
   ]
  }
 ],
 "metadata": {
  "kernelspec": {
   "display_name": "Python 3",
   "language": "python",
   "name": "python3"
  },
  "language_info": {
   "codemirror_mode": {
    "name": "ipython",
    "version": 3
   },
   "file_extension": ".py",
   "mimetype": "text/x-python",
   "name": "python",
   "nbconvert_exporter": "python",
   "pygments_lexer": "ipython3",
   "version": "3.11.7"
  }
 },
 "nbformat": 4,
 "nbformat_minor": 2
}
