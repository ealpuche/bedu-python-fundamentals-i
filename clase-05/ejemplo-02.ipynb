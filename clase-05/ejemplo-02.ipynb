{
 "cells": [
  {
   "cell_type": "code",
   "execution_count": 11,
   "metadata": {},
   "outputs": [
    {
     "name": "stdout",
     "output_type": "stream",
     "text": [
      "<class 'list'>\n",
      "(1, 'camisa', 100)\n",
      "(1, 'camisa', 100)\n",
      "(1, 'camisa', 100)\n"
     ]
    }
   ],
   "source": [
    "import mysql.connector\n",
    "\n",
    "# Crear una conexión a la base de datos.\n",
    "mydb = mysql.connector.connect(\n",
    "    host=\"ec2-35-87-249-145.us-west-2.compute.amazonaws.com\",\n",
    "    user=\"data\",\n",
    "    password=\"khQ9--mp6LWq97iA\",\n",
    "    database=\"tienda\"\n",
    "\n",
    ") # Pidele a tu Experto o Experta que te proporcione los datos de conexión.\n",
    "\n",
    "# Crear un cursor para ejecutar consultas.\n",
    "mycursor = mydb.cursor()\n",
    "## No crear multiples cursores, siempre usar el mismo cursor para todas las consultas.\n",
    "\n",
    "# Ejecutar una consulta.\n",
    "# mycursor.execute(\"create table productos (id int, nombre varchar(255), precio int)\")\n",
    "\n",
    "\n",
    "# Ejecutar una consulta.\n",
    "\n",
    "mycursor.execute(\"insert into productos (id, nombre, precio) values (1, 'camisa', 100)\")\n",
    "\n",
    "# Guardar los cambios.\n",
    "mydb.commit()\n",
    "\n",
    "query = \"\"\"\n",
    "    select * from productos\n",
    "\"\"\"\n",
    "\n",
    "# Ejecutar una consulta.\n",
    "mycursor.execute(query)\n",
    "\n",
    "# Obtener los resultados de la consulta.\n",
    "myresult = mycursor.fetchall()\n",
    "\n",
    "print(type(myresult))\n",
    "\n",
    "# Mostrar los resultados.\n",
    "for resultado in myresult:\n",
    "    print(resultado)"
   ]
  }
 ],
 "metadata": {
  "kernelspec": {
   "display_name": "Python 3",
   "language": "python",
   "name": "python3"
  },
  "language_info": {
   "codemirror_mode": {
    "name": "ipython",
    "version": 3
   },
   "file_extension": ".py",
   "mimetype": "text/x-python",
   "name": "python",
   "nbconvert_exporter": "python",
   "pygments_lexer": "ipython3",
   "version": "3.7.16"
  }
 },
 "nbformat": 4,
 "nbformat_minor": 2
}
