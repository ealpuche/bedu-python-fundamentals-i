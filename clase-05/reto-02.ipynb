{
 "cells": [
  {
   "cell_type": "code",
   "execution_count": 20,
   "metadata": {},
   "outputs": [
    {
     "name": "stdout",
     "output_type": "stream",
     "text": [
      "Usuario ID: 620, Total Pedido: $1525.23.\n",
      "Usuario ID: 780, Total Pedido: $1724.12.\n",
      "Usuario ID: 3224, Total Pedido: $1991.83.\n",
      "Usuario ID: 3491, Total Pedido: $1700.24.\n",
      "Usuario ID: 5078, Total Pedido: $1513.29.\n",
      "Usuario ID: 5648, Total Pedido: $1737.61.\n",
      "Usuario ID: 5932, Total Pedido: $1941.36.\n",
      "Usuario ID: 6072, Total Pedido: $2349.86.\n",
      "Usuario ID: 7506, Total Pedido: $1615.83.\n",
      "Usuario ID: 7643, Total Pedido: $1590.72.\n",
      "Usuario ID: 7782, Total Pedido: $1544.87.\n",
      "Usuario ID: 7929, Total Pedido: $1657.68.\n",
      "Usuario ID: 8892, Total Pedido: $1505.26.\n",
      "Usuario ID: 9279, Total Pedido: $1555.28.\n",
      "Usuario ID: 9748, Total Pedido: $2079.81.\n"
     ]
    }
   ],
   "source": [
    "import mysql.connector\n",
    "\n",
    "# Crear una conexión a la base de datos.\n",
    "mydb = mysql.connector.connect(\n",
    "    host=\"ec2-35-87-249-145.us-west-2.compute.amazonaws.com\",\n",
    "    user=\"data\",\n",
    "    password=\"khQ9--mp6LWq97iA\",\n",
    "    database=\"tienda\"\n",
    "\n",
    ") # Pidele a tu Experto o Experta que te proporcione los datos de conexión.\n",
    "\n",
    "\n",
    "# Crear un cursor para ejecutar consultas.\n",
    "mycursor = mydb.cursor()\n",
    "\n",
    "# Obtener las columnas: user_id y la suma de total_pedidos.\n",
    "\n",
    "mycursor.execute(\"\"\"\n",
    "    SELECT user_id, SUM(total_pedido) as total_pedidos\n",
    "    FROM Pedidos\n",
    "    GROUP BY user_id\n",
    "    HAVING total_pedidos > 1500\n",
    "\"\"\")\n",
    "\n",
    "\n",
    "# mycursor.execute(\"\"\"\n",
    "#     SELECT * FROM\n",
    "#     (SELECT user_id, SUM(total_pedido) as total_pedidos\n",
    "#     FROM Pedidos\n",
    "#     GROUP BY user_id\n",
    "#     ) AS Subquery\n",
    "#     WHERE total_pedidos > 1500\n",
    "# \"\"\")\n",
    "\n",
    "for x in mycursor:\n",
    "    print(f\"Usuario ID: {x[0]}, Total Pedido: ${x[1]}.\")"
   ]
  }
 ],
 "metadata": {
  "kernelspec": {
   "display_name": "Python 3",
   "language": "python",
   "name": "python3"
  },
  "language_info": {
   "codemirror_mode": {
    "name": "ipython",
    "version": 3
   },
   "file_extension": ".py",
   "mimetype": "text/x-python",
   "name": "python",
   "nbconvert_exporter": "python",
   "pygments_lexer": "ipython3",
   "version": "3.7.16"
  }
 },
 "nbformat": 4,
 "nbformat_minor": 2
}
