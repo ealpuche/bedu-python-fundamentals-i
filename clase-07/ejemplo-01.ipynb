{
 "cells": [
  {
   "cell_type": "code",
   "execution_count": 16,
   "metadata": {},
   "outputs": [
    {
     "data": {
      "text/plain": [
       "0    1\n",
       "1    2\n",
       "2    3\n",
       "3    4\n",
       "4    5\n",
       "dtype: int64"
      ]
     },
     "execution_count": 16,
     "metadata": {},
     "output_type": "execute_result"
    }
   ],
   "source": [
    "import pandas as pd\n",
    "\n",
    "serie_1 = pd.Series([1, 2, 3, 4, 5])\n",
    "usuarios = pd.Series(['elmer.alpuche', 'jose.perez', 'juan.lopez', 'maria.lopez', 'luis.lopez'])\n",
    "dominios = pd.Series(['gmail.com', 'hotmail.com', 'yahoo.com', 'outlook.com', 'live.com'])\n",
    "serie_1\n"
   ]
  },
  {
   "cell_type": "code",
   "execution_count": 13,
   "metadata": {},
   "outputs": [
    {
     "data": {
      "text/plain": [
       "0    aa\n",
       "1    ba\n",
       "2    ca\n",
       "3    da\n",
       "4    ea\n",
       "dtype: object"
      ]
     },
     "execution_count": 13,
     "metadata": {},
     "output_type": "execute_result"
    }
   ],
   "source": [
    "serie_2 = serie_1 + 'a'\n",
    "serie_2"
   ]
  },
  {
   "cell_type": "code",
   "execution_count": 15,
   "metadata": {},
   "outputs": [
    {
     "data": {
      "text/plain": [
       "0    10\n",
       "1    20\n",
       "2    30\n",
       "3    40\n",
       "4    50\n",
       "dtype: int64"
      ]
     },
     "execution_count": 15,
     "metadata": {},
     "output_type": "execute_result"
    }
   ],
   "source": [
    "serie_2 = serie_1 * 10\n",
    "serie_2"
   ]
  },
  {
   "cell_type": "code",
   "execution_count": 17,
   "metadata": {},
   "outputs": [
    {
     "data": {
      "text/plain": [
       "['1', '2', '3', '4', '5']"
      ]
     },
     "execution_count": 17,
     "metadata": {},
     "output_type": "execute_result"
    }
   ],
   "source": [
    "## Funcion map es muy similar a la funcion entre series\n",
    "\n",
    "def suma_10(x):\n",
    "    return x + 10\n",
    "\n",
    "def convertir_a_string(x):\n",
    "    return str(x)\n",
    "    \n",
    "\n",
    "lista = [1, 2, 3, 4, 5]\n",
    "list(map(suma_10, lista))\n",
    "\n",
    "list(map(convertir_a_string, lista))\n",
    "\n"
   ]
  },
  {
   "cell_type": "code",
   "execution_count": 22,
   "metadata": {},
   "outputs": [
    {
     "name": "stdout",
     "output_type": "stream",
     "text": [
      "0    elmer.alpuche@gmail.com\n",
      "1     jose.perez@hotmail.com\n",
      "2       juan.lopez@yahoo.com\n",
      "3    maria.lopez@outlook.com\n",
      "4        luis.lopez@live.com\n",
      "dtype: object\n"
     ]
    }
   ],
   "source": [
    "correo_electronico = usuarios + '@' + dominios\n",
    "print(correo_electronico)"
   ]
  },
  {
   "cell_type": "code",
   "execution_count": 26,
   "metadata": {},
   "outputs": [
    {
     "name": "stdout",
     "output_type": "stream",
     "text": [
      "0    elmer.alpucheelmer.alpuche\n",
      "1          jose.perezjose.perez\n",
      "2          juan.lopezjuan.lopez\n",
      "3        maria.lopezmaria.lopez\n",
      "4          luis.lopezluis.lopez\n",
      "dtype: object\n"
     ]
    }
   ],
   "source": [
    "correo_electronico = usuarios *  2\n",
    "print(correo_electronico)"
   ]
  },
  {
   "cell_type": "code",
   "execution_count": 33,
   "metadata": {},
   "outputs": [
    {
     "data": {
      "text/plain": [
       "pandas.core.series.Series"
      ]
     },
     "execution_count": 33,
     "metadata": {},
     "output_type": "execute_result"
    }
   ],
   "source": [
    "## Funciones vectorizadas\n",
    "\n",
    "serie_1 = pd.Series([1, 2, 3, 4, 5])\n",
    "serie_2 = serie_1.add(10)\n",
    "serie_3 = serie_1.sub(10)\n",
    "seria_4 = serie_1.mul(10)\n",
    "serie_5 = serie_1.div(10)\n",
    "type(serie_5)"
   ]
  },
  {
   "cell_type": "code",
   "execution_count": 49,
   "metadata": {},
   "outputs": [
    {
     "name": "stdout",
     "output_type": "stream",
     "text": [
      "315\n",
      "45.0\n",
      "3.0\n",
      "214.4294755857972\n",
      "500\n",
      "-200\n",
      "7\n"
     ]
    },
    {
     "data": {
      "text/plain": [
       "numpy.int64"
      ]
     },
     "execution_count": 49,
     "metadata": {},
     "output_type": "execute_result"
    }
   ],
   "source": [
    "## Funciones de agregacion\n",
    "import numpy as np\n",
    "\n",
    "serie_1 = pd.Series([1, 2, 3, 4, 5, 500, -200])\n",
    "print(serie_1.sum())\n",
    "print(serie_1.mean())\n",
    "print(serie_1.median())\n",
    "print(serie_1.std())\n",
    "print(serie_1.max())\n",
    "print(serie_1.min())\n",
    "print(serie_1.count())\n",
    "type(serie_1.count())\n"
   ]
  }
 ],
 "metadata": {
  "kernelspec": {
   "display_name": "Python 3",
   "language": "python",
   "name": "python3"
  },
  "language_info": {
   "codemirror_mode": {
    "name": "ipython",
    "version": 3
   },
   "file_extension": ".py",
   "mimetype": "text/x-python",
   "name": "python",
   "nbconvert_exporter": "python",
   "pygments_lexer": "ipython3",
   "version": "3.11.3"
  }
 },
 "nbformat": 4,
 "nbformat_minor": 2
}
