{
 "cells": [
  {
   "cell_type": "code",
   "execution_count": 2,
   "metadata": {},
   "outputs": [
    {
     "data": {
      "text/html": [
       "<div>\n",
       "<style scoped>\n",
       "    .dataframe tbody tr th:only-of-type {\n",
       "        vertical-align: middle;\n",
       "    }\n",
       "\n",
       "    .dataframe tbody tr th {\n",
       "        vertical-align: top;\n",
       "    }\n",
       "\n",
       "    .dataframe thead th {\n",
       "        text-align: right;\n",
       "    }\n",
       "</style>\n",
       "<table border=\"1\" class=\"dataframe\">\n",
       "  <thead>\n",
       "    <tr style=\"text-align: right;\">\n",
       "      <th></th>\n",
       "      <th>Estudiante</th>\n",
       "      <th>Materia</th>\n",
       "      <th>Calificación</th>\n",
       "    </tr>\n",
       "  </thead>\n",
       "  <tbody>\n",
       "    <tr>\n",
       "      <th>0</th>\n",
       "      <td>Ana</td>\n",
       "      <td>Matemáticas</td>\n",
       "      <td>85</td>\n",
       "    </tr>\n",
       "    <tr>\n",
       "      <th>1</th>\n",
       "      <td>Ana</td>\n",
       "      <td>Historia</td>\n",
       "      <td>90</td>\n",
       "    </tr>\n",
       "    <tr>\n",
       "      <th>2</th>\n",
       "      <td>Ana</td>\n",
       "      <td>Ciencias</td>\n",
       "      <td>78</td>\n",
       "    </tr>\n",
       "    <tr>\n",
       "      <th>3</th>\n",
       "      <td>Luis</td>\n",
       "      <td>Matemáticas</td>\n",
       "      <td>88</td>\n",
       "    </tr>\n",
       "    <tr>\n",
       "      <th>4</th>\n",
       "      <td>Luis</td>\n",
       "      <td>Historia</td>\n",
       "      <td>85</td>\n",
       "    </tr>\n",
       "    <tr>\n",
       "      <th>5</th>\n",
       "      <td>Luis</td>\n",
       "      <td>Ciencias</td>\n",
       "      <td>92</td>\n",
       "    </tr>\n",
       "    <tr>\n",
       "      <th>6</th>\n",
       "      <td>María</td>\n",
       "      <td>Matemáticas</td>\n",
       "      <td>90</td>\n",
       "    </tr>\n",
       "    <tr>\n",
       "      <th>7</th>\n",
       "      <td>María</td>\n",
       "      <td>Historia</td>\n",
       "      <td>88</td>\n",
       "    </tr>\n",
       "    <tr>\n",
       "      <th>8</th>\n",
       "      <td>María</td>\n",
       "      <td>Ciencias</td>\n",
       "      <td>85</td>\n",
       "    </tr>\n",
       "  </tbody>\n",
       "</table>\n",
       "</div>"
      ],
      "text/plain": [
       "  Estudiante      Materia  Calificación\n",
       "0        Ana  Matemáticas            85\n",
       "1        Ana     Historia            90\n",
       "2        Ana     Ciencias            78\n",
       "3       Luis  Matemáticas            88\n",
       "4       Luis     Historia            85\n",
       "5       Luis     Ciencias            92\n",
       "6      María  Matemáticas            90\n",
       "7      María     Historia            88\n",
       "8      María     Ciencias            85"
      ]
     },
     "execution_count": 2,
     "metadata": {},
     "output_type": "execute_result"
    }
   ],
   "source": [
    "import pandas as pd\n",
    "\n",
    "# Ejemplo de dataframe con calificaciones\n",
    "data = {\n",
    "    'Estudiante': ['Ana', 'Ana', 'Ana', 'Luis', 'Luis', 'Luis', 'María', 'María', 'María'],\n",
    "    'Materia': ['Matemáticas', 'Historia', 'Ciencias', 'Matemáticas', 'Historia', 'Ciencias', 'Matemáticas', 'Historia', 'Ciencias'],\n",
    "    'Calificación': [85, 90, 78, 88, 85, 92, 90, 88, 85]\n",
    "}\n",
    "\n",
    "df = pd.DataFrame(data)\n",
    "df"
   ]
  },
  {
   "cell_type": "code",
   "execution_count": 12,
   "metadata": {},
   "outputs": [
    {
     "name": "stdout",
     "output_type": "stream",
     "text": [
      "Suma y promedio de calificaciones de Ana: 253, 84\n",
      "Suma y promedio de calificaciones de Luis: 265, 88\n",
      "Suma y promedio de calificaciones de María: 263, 88\n",
      "La calificación más alta en el DataFrame es: 92\n",
      "La calificación más baja en el DataFrame es: 78\n"
     ]
    }
   ],
   "source": [
    "## Crear filtros\n",
    "\n",
    "def funcion_imprimir_mensaje(estudiante, suma_calificaciones, promedio_calificaciones):\n",
    "    print(f\"Suma y promedio de calificaciones de {estudiante}: {suma_calificaciones}, {round(promedio_calificaciones)}\")\n",
    "\n",
    "calificaciones_ana = df[df['Estudiante'] == 'Ana']\n",
    "calificaciones_luis = df[df['Estudiante'] == 'Luis']\n",
    "calificaciones_maria = df[df['Estudiante'] == 'María']\n",
    "\n",
    "funcion_imprimir_mensaje('Ana', calificaciones_ana['Calificación'].sum(), calificaciones_ana['Calificación'].mean())\n",
    "funcion_imprimir_mensaje('Luis', calificaciones_luis['Calificación'].sum(), calificaciones_luis['Calificación'].mean())\n",
    "funcion_imprimir_mensaje('María', calificaciones_maria['Calificación'].sum(), calificaciones_maria['Calificación'].mean())\n",
    "print(\"La calificación más alta en el DataFrame es:\", df['Calificación'].max())\n",
    "print(\"La calificación más baja en el DataFrame es:\", df['Calificación'].min())"
   ]
  }
 ],
 "metadata": {
  "kernelspec": {
   "display_name": "Python 3",
   "language": "python",
   "name": "python3"
  },
  "language_info": {
   "codemirror_mode": {
    "name": "ipython",
    "version": 3
   },
   "file_extension": ".py",
   "mimetype": "text/x-python",
   "name": "python",
   "nbconvert_exporter": "python",
   "pygments_lexer": "ipython3",
   "version": "3.11.3"
  }
 },
 "nbformat": 4,
 "nbformat_minor": 2
}
