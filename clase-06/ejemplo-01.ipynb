{
 "cells": [
  {
   "cell_type": "code",
   "execution_count": 28,
   "metadata": {},
   "outputs": [
    {
     "name": "stdout",
     "output_type": "stream",
     "text": [
      "1    1\n",
      "2    2\n",
      "3    3\n",
      "4    4\n",
      "5    5\n",
      "dtype: int64\n"
     ]
    }
   ],
   "source": [
    "import pandas as pd\n",
    "\n",
    "#listas\n",
    "elementos = [1, 2, 3, 4, 5]\n",
    "serie = pd.Series(elementos)\n",
    "# print(serie)\n",
    "\n",
    "# diccionario\n",
    "\n",
    "diccionario = {\"uno\": 1, \"dos\": False, \"tres\": 3, \"cuatro\": 4, \"cinco\": 5}\n",
    "serie = pd.Series(diccionario)\n",
    "# print(serie)\n",
    "\n",
    "#indices personalizados\n",
    "serie = pd.Series(elementos, index=[1, 2, 3, 4, 5])\n",
    "print(serie)\n",
    "\n",
    "# Tenemos 4 tipos: object, int64, float64, bool\n"
   ]
  },
  {
   "cell_type": "code",
   "execution_count": 32,
   "metadata": {},
   "outputs": [
    {
     "name": "stdout",
     "output_type": "stream",
     "text": [
      "(5,)\n",
      "5\n",
      "int64\n",
      "Index([1, 2, 3, 4, 5], dtype='int64')\n",
      "[1 2 3 4 5]\n"
     ]
    }
   ],
   "source": [
    "print(serie.shape) # es una tupla y regresa el numero de filas\n",
    "print(serie.size) # es un int, devuelve el numero de elementos\n",
    "print(serie.dtype) # es un tipo de dato\n",
    "print(serie.index) # es un objeto, devuelve los indices y su tipo\n",
    "print(serie.values) # es un objeto, devuelve los valores\n",
    "\n"
   ]
  }
 ],
 "metadata": {
  "kernelspec": {
   "display_name": "Python 3",
   "language": "python",
   "name": "python3"
  },
  "language_info": {
   "codemirror_mode": {
    "name": "ipython",
    "version": 3
   },
   "file_extension": ".py",
   "mimetype": "text/x-python",
   "name": "python",
   "nbconvert_exporter": "python",
   "pygments_lexer": "ipython3",
   "version": "3.11.3"
  }
 },
 "nbformat": 4,
 "nbformat_minor": 2
}
