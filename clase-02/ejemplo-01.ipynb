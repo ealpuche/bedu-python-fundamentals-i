{
 "cells": [
  {
   "cell_type": "code",
   "execution_count": 4,
   "metadata": {},
   "outputs": [
    {
     "name": "stdout",
     "output_type": "stream",
     "text": [
      "Hola\n"
     ]
    }
   ],
   "source": [
    "## if\n",
    "## Siempre se imprime la variable cadena\n",
    "cadena = 'Hola'\n",
    "nueva_cadena = 'Adios'\n",
    "if True:\n",
    "    print(cadena)\n",
    "else:\n",
    "    print(nueva_cadena)\n",
    "\n",
    "\n"
   ]
  },
  {
   "cell_type": "code",
   "execution_count": 19,
   "metadata": {},
   "outputs": [
    {
     "name": "stdout",
     "output_type": "stream",
     "text": [
      "18.0\n"
     ]
    },
    {
     "data": {
      "text/plain": [
       "int"
      ]
     },
     "execution_count": 19,
     "metadata": {},
     "output_type": "execute_result"
    }
   ],
   "source": [
    "import math\n",
    "#edad = int(input('Introduce tu edad: '))\n",
    "cadena = float(18)\n",
    "print(cadena)\n",
    "\n",
    "numerico = 18.0\n",
    "numero_redondeado = math.ceil(numerico)\n",
    "\n",
    "type(numero_redondeado)\n",
    "\n"
   ]
  },
  {
   "cell_type": "code",
   "execution_count": 21,
   "metadata": {},
   "outputs": [
    {
     "name": "stdout",
     "output_type": "stream",
     "text": [
      "Eres menor de edad\n"
     ]
    }
   ],
   "source": [
    "## if dinamico\n",
    "\n",
    "edad = int(input('Introduce tu edad: '))\n",
    "\n",
    "if edad >= 18:\n",
    "    print('Eres mayor de edad')\n",
    "else:\n",
    "    print('Eres menor de edad')"
   ]
  },
  {
   "cell_type": "code",
   "execution_count": 25,
   "metadata": {},
   "outputs": [
    {
     "name": "stdout",
     "output_type": "stream",
     "text": [
      "No estas vivo\n"
     ]
    }
   ],
   "source": [
    "## if dinamico\n",
    "\n",
    "edad = int(input('Introduce tu edad: '))\n",
    "\n",
    "## AND, OR, NOT\n",
    "\n",
    "if edad >= 0 and edad <= 100:\n",
    "    print('Estas vivo')\n",
    "else:\n",
    "    print('No estas vivo')\n",
    "\n",
    "## leyes de Morgan"
   ]
  },
  {
   "cell_type": "code",
   "execution_count": 29,
   "metadata": {},
   "outputs": [
    {
     "name": "stdout",
     "output_type": "stream",
     "text": [
      "Estas vivo\n"
     ]
    }
   ],
   "source": [
    "## if dinamico\n",
    "\n",
    "edad = int(input('Introduce tu edad: '))\n",
    "\n",
    "## AND, OR, NOT\n",
    "\n",
    "## Condiciones \n",
    "## Mandar correos a los hombres mayores de 18 y menores de 60\n",
    "\n",
    "if edad >= -1 and edad <= 100:\n",
    "    print('Estas vivo')\n",
    "elif edad < 0:\n",
    "    print('Aun no has nacido')\n",
    "elif edad > 100:\n",
    "    print('Ya estas muerto')"
   ]
  },
  {
   "cell_type": "code",
   "execution_count": 56,
   "metadata": {},
   "outputs": [
    {
     "ename": "ValueError",
     "evalue": "invalid literal for int() with base 10: ''",
     "output_type": "error",
     "traceback": [
      "\u001b[0;31m---------------------------------------------------------------------------\u001b[0m",
      "\u001b[0;31mValueError\u001b[0m                                Traceback (most recent call last)",
      "Cell \u001b[0;32mIn[56], line 4\u001b[0m\n\u001b[1;32m      1\u001b[0m \u001b[38;5;66;03m## For\u001b[39;00m\n\u001b[1;32m      3\u001b[0m lista_numeros \u001b[38;5;241m=\u001b[39m [\u001b[38;5;241m10\u001b[39m, \u001b[38;5;241m20\u001b[39m, \u001b[38;5;241m30\u001b[39m, \u001b[38;5;241m40\u001b[39m, \u001b[38;5;241m50\u001b[39m]\n\u001b[0;32m----> 4\u001b[0m edad \u001b[38;5;241m=\u001b[39m \u001b[38;5;28;43mint\u001b[39;49m\u001b[43m(\u001b[49m\u001b[38;5;28;43minput\u001b[39;49m\u001b[43m(\u001b[49m\u001b[38;5;124;43m'\u001b[39;49m\u001b[38;5;124;43mIntroduce tu edad: \u001b[39;49m\u001b[38;5;124;43m'\u001b[39;49m\u001b[43m)\u001b[49m\u001b[43m)\u001b[49m\n\u001b[1;32m      5\u001b[0m mensaje \u001b[38;5;241m=\u001b[39m \u001b[38;5;124m'\u001b[39m\u001b[38;5;124mHola mundo\u001b[39m\u001b[38;5;124m'\u001b[39m\n\u001b[1;32m      6\u001b[0m \u001b[38;5;28;01mfor\u001b[39;00m i \u001b[38;5;129;01min\u001b[39;00m \u001b[38;5;28mrange\u001b[39m(\u001b[38;5;241m10\u001b[39m):\n",
      "\u001b[0;31mValueError\u001b[0m: invalid literal for int() with base 10: ''"
     ]
    }
   ],
   "source": [
    "## For\n",
    "\n",
    "lista_numeros = [10, 20, 30, 40, 50]\n",
    "edad = int(input('Introduce tu edad: '))\n",
    "mensaje = 'Hola mundo'\n",
    "for i in range(10):\n",
    "    print(mensaje + ' ' + str(i))\n"
   ]
  },
  {
   "cell_type": "code",
   "execution_count": 86,
   "metadata": {},
   "outputs": [
    {
     "name": "stdout",
     "output_type": "stream",
     "text": [
      "El articulo no esta en el pasillo 1\n",
      "El articulo no esta en el pasillo 2\n",
      "El articulo no esta en el pasillo 3\n",
      "El articulo esta en el pasillo 4\n"
     ]
    }
   ],
   "source": [
    "## RETO 1\n",
    "import random\n",
    "\n",
    "pasillo_articulo = random.randint(1, 10)\n",
    "for i in range(1, 11):\n",
    "    if pasillo_articulo == i:\n",
    "        print('El articulo esta en el pasillo ' + str(i))\n",
    "        break\n",
    "    else:\n",
    "        print('El articulo no esta en el pasillo ' + str(i))"
   ]
  },
  {
   "cell_type": "code",
   "execution_count": 95,
   "metadata": {},
   "outputs": [
    {
     "name": "stdout",
     "output_type": "stream",
     "text": [
      "Eres mayor de edad\n"
     ]
    }
   ],
   "source": [
    "## Match python\n",
    "\n",
    "# nombre = 'Juan'\n",
    "\n",
    "# if nombre == 'Juan':\n",
    "#     print('Hola Juan')\n",
    "# elif nombre == 'Pedro':\n",
    "#     print('Hola Pedro')\n",
    "# else:\n",
    "#     print('Hola desconocido')\n",
    "\n",
    "# match nombre:\n",
    "#     case 'Juan':\n",
    "#         print('Hola Juan')\n",
    "#     case 'Pedro':\n",
    "#         print('Hola Pedro')\n",
    "#     case _:\n",
    "#         print('Hola desconocido')\n",
    "\n",
    "edad = 18\n",
    "\n",
    "match edad:\n",
    "    case 18:\n",
    "        print('Eres mayor de edad')\n",
    "    case 17:\n",
    "        print('Eres menor de edad')\n",
    "    case _:\n",
    "        print('No se que edad tienes')\n"
   ]
  },
  {
   "cell_type": "code",
   "execution_count": 103,
   "metadata": {},
   "outputs": [
    {
     "name": "stdout",
     "output_type": "stream",
     "text": [
      "Eres menor de edad y tienes 19 años\n",
      "Eres menor de edad y tienes 29 años\n",
      "Eres menor de edad y tienes 90 años\n",
      "Eres menor de edad y tienes 891 años\n"
     ]
    },
    {
     "ename": "ValueError",
     "evalue": "invalid literal for int() with base 10: ''",
     "output_type": "error",
     "traceback": [
      "\u001b[0;31m---------------------------------------------------------------------------\u001b[0m",
      "\u001b[0;31mValueError\u001b[0m                                Traceback (most recent call last)",
      "Cell \u001b[0;32mIn[103], line 7\u001b[0m\n\u001b[1;32m      5\u001b[0m \u001b[38;5;28;01mwhile\u001b[39;00m \u001b[38;5;28;01mTrue\u001b[39;00m:\n\u001b[1;32m      6\u001b[0m     \u001b[38;5;28mprint\u001b[39m(\u001b[38;5;124m'\u001b[39m\u001b[38;5;124mEres menor de edad y tienes \u001b[39m\u001b[38;5;124m'\u001b[39m \u001b[38;5;241m+\u001b[39m \u001b[38;5;28mstr\u001b[39m(edad) \u001b[38;5;241m+\u001b[39m \u001b[38;5;124m'\u001b[39m\u001b[38;5;124m años\u001b[39m\u001b[38;5;124m'\u001b[39m)    \n\u001b[0;32m----> 7\u001b[0m     edad \u001b[38;5;241m=\u001b[39m \u001b[38;5;28;43mint\u001b[39;49m\u001b[43m(\u001b[49m\u001b[38;5;28;43minput\u001b[39;49m\u001b[43m(\u001b[49m\u001b[38;5;124;43m'\u001b[39;49m\u001b[38;5;124;43mIntroduce tu edad: \u001b[39;49m\u001b[38;5;124;43m'\u001b[39;49m\u001b[43m)\u001b[49m\u001b[43m)\u001b[49m\n\u001b[1;32m      8\u001b[0m \u001b[38;5;28;01melse\u001b[39;00m:\n\u001b[1;32m      9\u001b[0m     \u001b[38;5;28mprint\u001b[39m(\u001b[38;5;124m'\u001b[39m\u001b[38;5;124mEres mayor de edad y tienes \u001b[39m\u001b[38;5;124m'\u001b[39m \u001b[38;5;241m+\u001b[39m \u001b[38;5;28mstr\u001b[39m(edad) \u001b[38;5;241m+\u001b[39m \u001b[38;5;124m'\u001b[39m\u001b[38;5;124m años\u001b[39m\u001b[38;5;124m'\u001b[39m)\n",
      "\u001b[0;31mValueError\u001b[0m: invalid literal for int() with base 10: ''"
     ]
    }
   ],
   "source": [
    "#ciclo while\n",
    "\n",
    "edad = int(input('Introduce tu edad: '))\n",
    "\n",
    "while True:\n",
    "    print('Eres menor de edad y tienes ' + str(edad) + ' años')    \n",
    "    edad = int(input('Introduce tu edad: '))\n",
    "else:\n",
    "    print('Eres mayor de edad y tienes ' + str(edad) + ' años')\n"
   ]
  },
  {
   "cell_type": "code",
   "execution_count": 110,
   "metadata": {},
   "outputs": [
    {
     "ename": "ValueError",
     "evalue": "invalid literal for int() with base 10: ''",
     "output_type": "error",
     "traceback": [
      "\u001b[0;31m---------------------------------------------------------------------------\u001b[0m",
      "\u001b[0;31mValueError\u001b[0m                                Traceback (most recent call last)",
      "Cell \u001b[0;32mIn[110], line 4\u001b[0m\n\u001b[1;32m      1\u001b[0m \u001b[38;5;66;03m#ciclo while\u001b[39;00m\n\u001b[1;32m      2\u001b[0m \u001b[38;5;28;01mimport\u001b[39;00m \u001b[38;5;21;01mtime\u001b[39;00m\n\u001b[0;32m----> 4\u001b[0m edad \u001b[38;5;241m=\u001b[39m \u001b[38;5;28;43mint\u001b[39;49m\u001b[43m(\u001b[49m\u001b[38;5;28;43minput\u001b[39;49m\u001b[43m(\u001b[49m\u001b[38;5;124;43m'\u001b[39;49m\u001b[38;5;124;43mIntroduce tu edad: \u001b[39;49m\u001b[38;5;124;43m'\u001b[39;49m\u001b[43m)\u001b[49m\u001b[43m)\u001b[49m\n\u001b[1;32m      5\u001b[0m \u001b[38;5;66;03m## Detener el ciclo pasado los 10 segundos\u001b[39;00m\n\u001b[1;32m      7\u001b[0m tiempo_inicial \u001b[38;5;241m=\u001b[39m time\u001b[38;5;241m.\u001b[39mtime()\n",
      "\u001b[0;31mValueError\u001b[0m: invalid literal for int() with base 10: ''"
     ]
    }
   ],
   "source": [
    "#ciclo while\n",
    "import time\n",
    "\n",
    "edad = int(input('Introduce tu edad: '))\n",
    "## Detener el ciclo pasado los 10 segundos\n",
    "\n",
    "tiempo_inicial = time.time()\n",
    "tiempo_final = time.time()\n",
    "while tiempo_final - tiempo_inicial < 2:\n",
    "    print('Eres menor de edad y tienes ' + str(edad) + ' años')    \n",
    "    edad = int(input('Introduce tu edad: '))\n",
    "    tiempo_final = time.time()\n",
    "print(tiempo_inicial)\n"
   ]
  },
  {
   "cell_type": "code",
   "execution_count": 4,
   "metadata": {},
   "outputs": [
    {
     "name": "stdout",
     "output_type": "stream",
     "text": [
      "Agregaste una pizza a tu pedido + $10\n",
      "Agregaste una pizza a tu pedido + $10\n",
      "Agregaste una hamburguesa a tu pedido + $8\n",
      "Agregaste una ensalada a tu pedido + $7\n",
      "El total de su pedido es: 35\n"
     ]
    }
   ],
   "source": [
    "## RETO 2\n",
    "\n",
    "pedido_total = 0\n",
    "opcion_pizza = \"a) Pizza - $10\"\n",
    "opcion_hamburguesa = \"b) Hamburguesa - $8\"\n",
    "opcion_ensalada = \"c) Ensalada - $7\"\n",
    "opcion_finalizar_pedido = \"0) Finalizar pedido\"\n",
    "opcion_usuario = input(f\"\"\"Ingrese la opcion deseada: \n",
    "    {opcion_pizza}\n",
    "    {opcion_hamburguesa}\n",
    "    {opcion_ensalada}\n",
    "    {opcion_finalizar_pedido}\n",
    "\"\"\")\n",
    "\n",
    "while opcion_usuario!='0':\n",
    "    # if opcion_usuario == 'a':\n",
    "    #     pedido_total += 10\n",
    "    #     print(\"Agregaste una pizza a tu pedido + $10\")\n",
    "    # elif opcion_usuario == 'b':\n",
    "    #     pedido_total += 8\n",
    "    #     print(\"Agregaste una hamburguesa a tu pedido + $8\")\n",
    "    # elif opcion_usuario == 'c':\n",
    "    #     pedido_total += 7\n",
    "    #     print(\"Agregaste una ensalada a tu pedido + $7\")\n",
    "    # elif opcion_usuario == '0':\n",
    "    #     break\n",
    "    # else:\n",
    "    #     print('Opcion no valida')\n",
    "    match opcion_usuario:\n",
    "        case 'a':\n",
    "            pedido_total += 10\n",
    "            print(\"Agregaste una pizza a tu pedido + $10\")\n",
    "        case 'b':\n",
    "            pedido_total += 8\n",
    "            print(\"Agregaste una hamburguesa a tu pedido + $8\")\n",
    "        case 'c':\n",
    "            pedido_total += 7\n",
    "            print(\"Agregaste una ensalada a tu pedido + $7\")\n",
    "        case '0':\n",
    "            break\n",
    "        case _:\n",
    "            print('Opcion no valida')\n",
    "    opcion_usuario = input(f\"\"\"Ingrese la opcion deseada: \n",
    "        {opcion_pizza}\n",
    "        {opcion_hamburguesa}\n",
    "        {opcion_ensalada}\n",
    "        {opcion_finalizar_pedido}\n",
    "    \"\"\")\n",
    "print(f'El total de su pedido es: ${pedido_total}')\n",
    "\n",
    "\n"
   ]
  }
 ],
 "metadata": {
  "kernelspec": {
   "display_name": "Python 3",
   "language": "python",
   "name": "python3"
  },
  "language_info": {
   "codemirror_mode": {
    "name": "ipython",
    "version": 3
   },
   "file_extension": ".py",
   "mimetype": "text/x-python",
   "name": "python",
   "nbconvert_exporter": "python",
   "pygments_lexer": "ipython3",
   "version": "3.11.7"
  }
 },
 "nbformat": 4,
 "nbformat_minor": 2
}
