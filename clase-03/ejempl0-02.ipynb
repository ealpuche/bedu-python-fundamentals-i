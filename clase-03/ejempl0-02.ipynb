{
 "cells": [
  {
   "cell_type": "code",
   "execution_count": 4,
   "metadata": {},
   "outputs": [
    {
     "name": "stdout",
     "output_type": "stream",
     "text": [
      "()\n"
     ]
    },
    {
     "data": {
      "text/plain": [
       "tuple"
      ]
     },
     "execution_count": 4,
     "metadata": {},
     "output_type": "execute_result"
    }
   ],
   "source": [
    "# tuplas\n",
    "\n",
    "tupla_vacia = ()\n",
    "tupla_vacia_2 = tuple()\n",
    "print(tupla_vacia_2)\n",
    "type(tupla_vacia_2)\n"
   ]
  },
  {
   "cell_type": "code",
   "execution_count": 11,
   "metadata": {},
   "outputs": [
    {
     "name": "stdout",
     "output_type": "stream",
     "text": [
      "(1, 2, 3, 4, 5)\n",
      "(1, 'dos', 3.0, [], 7)\n"
     ]
    }
   ],
   "source": [
    "numeros = (1, 2, 3, 4, 5)\n",
    "print(numeros)\n",
    "elementos = (1, 'dos', 3.0, [4, 'cuatro'], 5)\n",
    "elementos = (1, 'dos', 3.0, [4, 'cuatro'], 6)\n",
    "elementos = (1, 'dos', 3.0, [], 7)\n",
    "print(elementos)"
   ]
  },
  {
   "cell_type": "code",
   "execution_count": 15,
   "metadata": {},
   "outputs": [
    {
     "name": "stdout",
     "output_type": "stream",
     "text": [
      "1\n",
      "2\n"
     ]
    }
   ],
   "source": [
    "numeros = (1, 2)\n",
    "print(numeros[0])\n",
    "print(numeros[1])"
   ]
  },
  {
   "cell_type": "code",
   "execution_count": 19,
   "metadata": {},
   "outputs": [
    {
     "data": {
      "text/plain": [
       "1.0"
      ]
     },
     "execution_count": 19,
     "metadata": {},
     "output_type": "execute_result"
    }
   ],
   "source": [
    "punto_1 = (3, 4)\n",
    "punto_2 = (5, 6)\n",
    "pendiente = (punto_2[1] - punto_1[1]) / (punto_2[0] - punto_1[0])\n",
    "pendiente"
   ]
  },
  {
   "cell_type": "code",
   "execution_count": 31,
   "metadata": {},
   "outputs": [
    {
     "name": "stdout",
     "output_type": "stream",
     "text": [
      "2\n",
      "2\n",
      "(1, 2)\n",
      "5\n"
     ]
    }
   ],
   "source": [
    "numeros = (1, 2, 2, 4, 5)\n",
    "print(numeros.count(2))\n",
    "\n",
    "## indice de un elemento\n",
    "numeros = (1, 1, 2, 4, 5)\n",
    "\n",
    "print(numeros.index(2))\n",
    "\n",
    "# slicing\n",
    "\n",
    "numeros = (1, 2, 3, 4, 5)\n",
    "subtupla = numeros[:2]\n",
    "\n",
    "print(subtupla)\n",
    "print(len(numeros))\n",
    "\n",
    "lista_de_tuplas = [(1, 2), (3, 4), (5, 6)]\n",
    "tuplas_de_tuplas = ((1, 2), (3, 4), (5, 6))\n"
   ]
  },
  {
   "cell_type": "code",
   "execution_count": 33,
   "metadata": {},
   "outputs": [
    {
     "name": "stdout",
     "output_type": "stream",
     "text": [
      "1\n",
      "2\n",
      "3\n",
      "4\n",
      "5\n",
      "1\n",
      "2\n",
      "3\n",
      "4\n",
      "5\n"
     ]
    }
   ],
   "source": [
    "lista_de_numeros = [1, 2, 3, 4, 5]\n",
    "for numero in lista_de_numeros:\n",
    "    print(numero)\n",
    "\n",
    "tupla_de_numeros = (1, 2, 3, 4, 5)\n",
    "for numero in tupla_de_numeros:\n",
    "    print(numero)"
   ]
  }
 ],
 "metadata": {
  "kernelspec": {
   "display_name": "Python 3",
   "language": "python",
   "name": "python3"
  },
  "language_info": {
   "codemirror_mode": {
    "name": "ipython",
    "version": 3
   },
   "file_extension": ".py",
   "mimetype": "text/x-python",
   "name": "python",
   "nbconvert_exporter": "python",
   "pygments_lexer": "ipython3",
   "version": "3.11.7"
  }
 },
 "nbformat": 4,
 "nbformat_minor": 2
}
