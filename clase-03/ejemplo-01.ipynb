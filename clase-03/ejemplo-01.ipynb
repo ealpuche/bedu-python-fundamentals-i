{
 "cells": [
  {
   "cell_type": "code",
   "execution_count": 5,
   "metadata": {},
   "outputs": [
    {
     "name": "stdout",
     "output_type": "stream",
     "text": [
      "0\n",
      "5\n"
     ]
    }
   ],
   "source": [
    "#listas\n",
    "\n",
    "lista = []\n",
    "lista_vacia = list()\n",
    "print(len(lista_vacia))\n",
    "lista = [1,2.0, True, \"hola\", [1,2,3]]\n",
    "print(len(lista))\n",
    "\n"
   ]
  },
  {
   "cell_type": "code",
   "execution_count": 13,
   "metadata": {},
   "outputs": [
    {
     "name": "stdout",
     "output_type": "stream",
     "text": [
      "1\n",
      "9\n"
     ]
    }
   ],
   "source": [
    "lista_de_numeros = [1,2,3,4,5,6,7,8,9,10]\n",
    "print(lista_de_numeros[0])\n",
    "# print(lista_de_numeros[10]) esto da error\n",
    "print(lista_de_numeros[-2]) # ultimo elemento similar a lista_de_numeros[9]\n"
   ]
  },
  {
   "cell_type": "code",
   "execution_count": 45,
   "metadata": {},
   "outputs": [
    {
     "name": "stdout",
     "output_type": "stream",
     "text": [
      "[500, 400, -100, 1, 1, 2, 3, 4, 5, 6, 7, 8, 9, 10]\n",
      "2\n",
      "[500, 400, 10, 9, 8, 6, 5, 4, 3, 2, 1, 1, -100]\n",
      "[500, 400, -100, 1, 1, 2, 3, 4, 5, 6, 7, 8, 9, 10]\n",
      "7\n"
     ]
    },
    {
     "data": {
      "text/plain": [
       "-100"
      ]
     },
     "execution_count": 45,
     "metadata": {},
     "output_type": "execute_result"
    }
   ],
   "source": [
    "lista_de_numeros = [500,400,-100,1,1,2,3,4,5,6,7,8,9,10]\n",
    "lista_duplicada = lista_de_numeros.copy()\n",
    "## inserta un elemento a la ultima posicion\n",
    "# lista_de_numeros.append('a')\n",
    "# inserta un elemento en la posicion 0\n",
    "# lista_de_numeros.insert(0, 'x')\n",
    "print(lista_de_numeros)\n",
    "# remueve el ultimo elemento\n",
    "ultimo_elemento = lista_de_numeros.pop(10)\n",
    "# vacia la lista\n",
    "#lista_de_numeros.clear()\n",
    "# cuenta las veces que se repite un elemento\n",
    "print(lista_de_numeros.count(1))\n",
    "#ordenar la lista\n",
    "lista_de_numeros.sort(reverse=True)\n",
    "print(lista_de_numeros)\n",
    "print(lista_duplicada)\n",
    "print(ultimo_elemento)\n",
    "#ultimo_elemento\n",
    "longitud_lista = len(lista_de_numeros)\n",
    "lista_de_numeros[-1]\n",
    "lista_de_numeros[longitud_lista-1]\n"
   ]
  },
  {
   "cell_type": "code",
   "execution_count": 70,
   "metadata": {},
   "outputs": [
    {
     "name": "stdout",
     "output_type": "stream",
     "text": [
      "[1, 2]\n",
      "[2, 3, 4, 5, 6, 7, 8, 9, 10]\n",
      "[1, 2, 3, 4, 5]\n",
      "[10]\n",
      "Lista en reversa\n",
      "[10, 9, 8, 7]\n",
      "[1, 2, 3, 4, 5, 6]\n",
      "5\n",
      "5\n"
     ]
    }
   ],
   "source": [
    "lista_de_numeros = [1,2,3,4,5,6,7,8,9,10]\n",
    "sublista = lista_de_numeros[0:2]\n",
    "print(sublista)\n",
    "sublista = lista_de_numeros[1:]\n",
    "print(sublista)\n",
    "sublista = lista_de_numeros[:5]\n",
    "print(sublista)\n",
    "sublista = lista_de_numeros[9:]\n",
    "print(sublista)\n",
    "copia_lista = lista_de_numeros.copy()\n",
    "print(\"Lista en reversa\")\n",
    "copia_lista.reverse()\n",
    "print(copia_lista[0:4])\n",
    "## concatener listas\n",
    "lista1 = [1,2,3]\n",
    "lista2 = [4,5,6]\n",
    "lista3 = lista1 + lista2\n",
    "print(lista3)\n",
    "\n",
    "lista_de_listas = [[1,2,3], [4,5,6], [7,8,9]]\n",
    "print(lista_de_listas[1][1])\n",
    "\n",
    "lista_de_listas_de_listas = [ [ [1,2,3], [4,5,6] ], [[7,8,9], [10,11,12]]]\n",
    "print(lista_de_listas[1][1])\n"
   ]
  },
  {
   "cell_type": "code",
   "execution_count": 78,
   "metadata": {},
   "outputs": [
    {
     "data": {
      "text/plain": [
       "[1, 4, 9, 16, 25, 36, 49, 64, 81, 100]"
      ]
     },
     "execution_count": 78,
     "metadata": {},
     "output_type": "execute_result"
    }
   ],
   "source": [
    "#listas por comprension\n",
    "lista_de_numeros = [1,2,3,4,5,6,7,8,9,10]\n",
    "pares = [x for x in lista_de_numeros if x % 2 == 0]\n",
    "impares = [x for x in lista_de_numeros if x % 2 != 0]\n",
    "cuadrados = [numero ** 2 for numero in lista_de_numeros]\n",
    "pares\n",
    "impares\n",
    "cuadrados"
   ]
  },
  {
   "cell_type": "code",
   "execution_count": 81,
   "metadata": {},
   "outputs": [
    {
     "data": {
      "text/plain": [
       "['JUAN', 'PEDRO', 'MARIA', 'JOSE']"
      ]
     },
     "execution_count": 81,
     "metadata": {},
     "output_type": "execute_result"
    }
   ],
   "source": [
    "lista_de_nombres = ['juan', 'pedro', 'maria', 'jose']\n",
    "nombres_mayusculas = [nombre.upper() for nombre in lista_de_nombres]\n",
    "nombres_mayusculas"
   ]
  }
 ],
 "metadata": {
  "kernelspec": {
   "display_name": "Python 3",
   "language": "python",
   "name": "python3"
  },
  "language_info": {
   "codemirror_mode": {
    "name": "ipython",
    "version": 3
   },
   "file_extension": ".py",
   "mimetype": "text/x-python",
   "name": "python",
   "nbconvert_exporter": "python",
   "pygments_lexer": "ipython3",
   "version": "3.11.7"
  }
 },
 "nbformat": 4,
 "nbformat_minor": 2
}
