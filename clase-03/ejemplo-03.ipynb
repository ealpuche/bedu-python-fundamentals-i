{
 "cells": [
  {
   "cell_type": "code",
   "execution_count": 2,
   "metadata": {},
   "outputs": [
    {
     "name": "stdout",
     "output_type": "stream",
     "text": [
      "Numero no encontrado\n",
      "Numero no encontrado\n",
      "Numero encontrado\n"
     ]
    }
   ],
   "source": [
    "# diccionarios\n",
    "lista_de_numeros = [1, 2, 3, 4, 5]\n",
    "numero_a_buscar = 3\n",
    "for numero in lista_de_numeros:\n",
    "    if numero == numero_a_buscar:\n",
    "        print(\"Numero encontrado\")\n",
    "        break\n",
    "    else:\n",
    "        print(\"Numero no encontrado\")\n",
    "        \n"
   ]
  },
  {
   "cell_type": "code",
   "execution_count": 26,
   "metadata": {},
   "outputs": [
    {
     "name": "stdout",
     "output_type": "stream",
     "text": [
      "{'nombre': 'Juan', 1: 'dos', 2.0: 'flotante'}\n",
      "Juan\n",
      "Juan\n",
      "['nombre', 1, 2.0]\n",
      "nombre\n",
      "1\n",
      "2.0\n",
      "dict_values(['Juan', 'dos', 'flotante'])\n",
      "{'nombre': 'Juan'}\n"
     ]
    }
   ],
   "source": [
    "diccionario = {\n",
    "    \"nombre\": \"Juan\",\n",
    "    1: \"dos\",\n",
    "    2.0: \"flotante\",\n",
    "}\n",
    "diccionario_vacio = {}\n",
    "\n",
    "print(diccionario)\n",
    "type(diccionario)\n",
    "\n",
    "print(diccionario[\"nombre\"])\n",
    "print(diccionario.get(\"nombre\"))\n",
    "\n",
    "print(list(diccionario.keys()))\n",
    "\n",
    "for key in diccionario.keys():\n",
    "    print(key)\n",
    "\n",
    "# diccionario.clear()\n",
    "print(diccionario.values())\n",
    "\n",
    "diccionario.pop(1)\n",
    "diccionario.popitem()\n",
    "print(diccionario)"
   ]
  },
  {
   "cell_type": "code",
   "execution_count": 27,
   "metadata": {},
   "outputs": [],
   "source": [
    "diccionario = {\n",
    "    \"nombres\": {\n",
    "        \"nombre\": \"Juan\",\n",
    "        \"apellido\": \"Perez\",\n",
    "    },\n",
    "    \"amigos\": [\"Pedro\", \"Jose\"],\n",
    "    \"hijos\": (1, 3),\n",
    "    \"edad\": 30,\n",
    "    \"casado\": False,\n",
    "}"
   ]
  },
  {
   "cell_type": "code",
   "execution_count": 42,
   "metadata": {},
   "outputs": [
    {
     "name": "stdout",
     "output_type": "stream",
     "text": [
      "{1, 2, 3, 4, 5, 6}\n",
      "{1, 2, 3, 4, 5, 6}\n",
      "{1, 2, 3, 4, 5, 6, 7, 8}\n",
      "{4, 5, 6}\n",
      "{1, 2, 3}\n",
      "{8, 7}\n",
      "{1, 2, 3, 7, 8}\n",
      "1\n",
      "2\n",
      "3\n",
      "4\n",
      "5\n",
      "6\n"
     ]
    }
   ],
   "source": [
    "#set\n",
    "conjunto = {1, 2, 3, 4, 5, 5, 6}\n",
    "conjunto_2 = {4, 5, 6, 7, 8}\n",
    "print(conjunto)\n",
    "\n",
    "conjunto.add(6)\n",
    "print(conjunto)\n",
    "# conjunto.discard(1)\n",
    "print(conjunto.union(conjunto_2))\n",
    "print(conjunto.intersection(conjunto_2))\n",
    "print(conjunto.difference(conjunto_2))\n",
    "print(conjunto_2.difference(conjunto))\n",
    "print(conjunto.symmetric_difference(conjunto_2))\n",
    "\n",
    "for elem in conjunto:\n",
    "    print(elem) \n",
    "\n"
   ]
  }
 ],
 "metadata": {
  "kernelspec": {
   "display_name": "Python 3",
   "language": "python",
   "name": "python3"
  },
  "language_info": {
   "codemirror_mode": {
    "name": "ipython",
    "version": 3
   },
   "file_extension": ".py",
   "mimetype": "text/x-python",
   "name": "python",
   "nbconvert_exporter": "python",
   "pygments_lexer": "ipython3",
   "version": "3.11.7"
  }
 },
 "nbformat": 4,
 "nbformat_minor": 2
}
